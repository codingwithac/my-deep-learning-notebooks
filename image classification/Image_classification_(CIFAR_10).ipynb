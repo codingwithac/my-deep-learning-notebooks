{
  "nbformat": 4,
  "nbformat_minor": 0,
  "metadata": {
    "colab": {
      "provenance": [],
      "authorship_tag": "ABX9TyO+cZ+RwzM7xtawNdPki8Jf",
      "include_colab_link": true
    },
    "kernelspec": {
      "name": "python3",
      "display_name": "Python 3"
    },
    "language_info": {
      "name": "python"
    }
  },
  "cells": [
    {
      "cell_type": "markdown",
      "metadata": {
        "id": "view-in-github",
        "colab_type": "text"
      },
      "source": [
        "<a href=\"https://colab.research.google.com/github/codingwithac/my-deep-learning-notebooks/blob/main/image%20classification/Image_classification_(CIFAR_10).ipynb\" target=\"_parent\"><img src=\"https://colab.research.google.com/assets/colab-badge.svg\" alt=\"Open In Colab\"/></a>"
      ]
    },
    {
      "cell_type": "code",
      "execution_count": 53,
      "metadata": {
        "id": "0hNm-f-asUBp"
      },
      "outputs": [],
      "source": [
        "from tensorflow import keras"
      ]
    },
    {
      "cell_type": "markdown",
      "source": [
        "# Get the data"
      ],
      "metadata": {
        "id": "ilyL734YtRTt"
      }
    },
    {
      "cell_type": "code",
      "source": [
        "(x_train, y_train), (x_test, y_test) = keras.datasets.cifar10.load_data()"
      ],
      "metadata": {
        "id": "zwW3d2OrtVlv"
      },
      "execution_count": 54,
      "outputs": []
    },
    {
      "cell_type": "code",
      "source": [
        "# split the data into training and validation set\n",
        "x_train = x_train[5000:]\n",
        "x_validation = x_train[:5000]\n",
        "\n",
        "y_train = y_train[5000:]\n",
        "y_validation = y_train[:5000]"
      ],
      "metadata": {
        "id": "slYxDkg5tjrN"
      },
      "execution_count": 55,
      "outputs": []
    },
    {
      "cell_type": "code",
      "source": [
        "# print the shapes\n",
        "print(\"x_train: \", x_train.shape)\n",
        "print(\"x_validation: \", x_validation.shape)\n",
        "print(\"x_test: \", x_test.shape)"
      ],
      "metadata": {
        "colab": {
          "base_uri": "https://localhost:8080/"
        },
        "id": "mMMg2zX1uHsx",
        "outputId": "24bd8724-d6b9-4146-870b-501e3da6ef0d"
      },
      "execution_count": 56,
      "outputs": [
        {
          "output_type": "stream",
          "name": "stdout",
          "text": [
            "x_train:  (45000, 32, 32, 3)\n",
            "x_validation:  (5000, 32, 32, 3)\n",
            "x_test:  (10000, 32, 32, 3)\n"
          ]
        }
      ]
    },
    {
      "cell_type": "code",
      "source": [
        "# apply one-hot encoding to the labels\n",
        "y_train = keras.utils.to_categorical(y_train)\n",
        "y_validation = keras.utils.to_categorical(y_validation)\n",
        "y_test = keras.utils.to_categorical(y_test)"
      ],
      "metadata": {
        "id": "-73nNFOzumMh"
      },
      "execution_count": 57,
      "outputs": []
    },
    {
      "cell_type": "markdown",
      "source": [
        "# Define the baseline model"
      ],
      "metadata": {
        "id": "qMHstnPLx4Es"
      }
    },
    {
      "cell_type": "code",
      "source": [
        "# create the baseline model\n",
        "inputs = keras.Input(shape=(32,32,3))\n",
        "x = keras.layers.Rescaling(1./255)(inputs)\n",
        "x = keras.layers.Conv2D(filters=32, kernel_size=3, padding=\"same\", activation=\"relu\", name=\"1st_conv_layer\")(x)\n",
        "x = keras.layers.MaxPooling2D(pool_size=2, name=\"1st_pooling_layer\")(x)\n",
        "x = keras.layers.Conv2D(filters=64, kernel_size=3, padding=\"same\", activation=\"relu\", name=\"2nd_conv_layer\")(x)\n",
        "x = keras.layers.MaxPooling2D(pool_size=2, name=\"2nd_pooling_layer\")(x)\n",
        "x = keras.layers.Conv2D(filters=128, kernel_size=3, padding=\"same\", activation=\"relu\", name=\"3rd_conv_layer\")(x)\n",
        "x = keras.layers.MaxPooling2D(pool_size=2, name=\"3rd_pooling_layer\")(x)\n",
        "x = keras.layers.Conv2D(filters=256, kernel_size=3, padding=\"same\", activation=\"relu\", name=\"4th_conv_layer\")(x)\n",
        "x = keras.layers.MaxPooling2D(pool_size=2, name=\"4th_pooling_layer\")(x)\n",
        "x = keras.layers.Conv2D(filters=256, kernel_size=3, padding=\"same\", activation=\"relu\", name=\"5th_conv_layer\")(x)\n",
        "x = keras.layers.MaxPooling2D(pool_size=2, name=\"5th_pooling_layer\")(x)\n",
        "x = keras.layers.Flatten()(x)\n",
        "x = keras.layers.Dense(256, activation=\"relu\", name=\"dense_layer\")(x)\n",
        "outputs = keras.layers.Dense(10, activation=\"softmax\", name=\"output_layer\")(x)\n",
        "\n",
        "baseline_model = keras.Model(inputs=inputs, outputs=outputs, name=\"baseline_model\")"
      ],
      "metadata": {
        "id": "QEZOF_-cx7l1"
      },
      "execution_count": 58,
      "outputs": []
    },
    {
      "cell_type": "code",
      "source": [
        "baseline_model.summary()"
      ],
      "metadata": {
        "colab": {
          "base_uri": "https://localhost:8080/"
        },
        "id": "83wkVPIF0BcF",
        "outputId": "a295546a-7655-45a5-d79e-67246f0626fb"
      },
      "execution_count": 59,
      "outputs": [
        {
          "output_type": "stream",
          "name": "stdout",
          "text": [
            "Model: \"baseline_model\"\n",
            "_________________________________________________________________\n",
            " Layer (type)                Output Shape              Param #   \n",
            "=================================================================\n",
            " input_12 (InputLayer)       [(None, 32, 32, 3)]       0         \n",
            "                                                                 \n",
            " rescaling_11 (Rescaling)    (None, 32, 32, 3)         0         \n",
            "                                                                 \n",
            " 1st_conv_layer (Conv2D)     (None, 32, 32, 32)        896       \n",
            "                                                                 \n",
            " 1st_pooling_layer (MaxPooli  (None, 16, 16, 32)       0         \n",
            " ng2D)                                                           \n",
            "                                                                 \n",
            " 2nd_conv_layer (Conv2D)     (None, 16, 16, 64)        18496     \n",
            "                                                                 \n",
            " 2nd_pooling_layer (MaxPooli  (None, 8, 8, 64)         0         \n",
            " ng2D)                                                           \n",
            "                                                                 \n",
            " 3rd_conv_layer (Conv2D)     (None, 8, 8, 128)         73856     \n",
            "                                                                 \n",
            " 3rd_pooling_layer (MaxPooli  (None, 4, 4, 128)        0         \n",
            " ng2D)                                                           \n",
            "                                                                 \n",
            " 4th_conv_layer (Conv2D)     (None, 4, 4, 256)         295168    \n",
            "                                                                 \n",
            " 4th_pooling_layer (MaxPooli  (None, 2, 2, 256)        0         \n",
            " ng2D)                                                           \n",
            "                                                                 \n",
            " 5th_conv_layer (Conv2D)     (None, 2, 2, 256)         590080    \n",
            "                                                                 \n",
            " 5th_pooling_layer (MaxPooli  (None, 1, 1, 256)        0         \n",
            " ng2D)                                                           \n",
            "                                                                 \n",
            " flatten_11 (Flatten)        (None, 256)               0         \n",
            "                                                                 \n",
            " dense_layer (Dense)         (None, 256)               65792     \n",
            "                                                                 \n",
            " output_layer (Dense)        (None, 10)                2570      \n",
            "                                                                 \n",
            "=================================================================\n",
            "Total params: 1,046,858\n",
            "Trainable params: 1,046,858\n",
            "Non-trainable params: 0\n",
            "_________________________________________________________________\n"
          ]
        }
      ]
    },
    {
      "cell_type": "markdown",
      "source": [
        "# Configure the model"
      ],
      "metadata": {
        "id": "T6JEAL8q1Kgi"
      }
    },
    {
      "cell_type": "code",
      "source": [
        "# define the optimizer \n",
        "optimizer = keras.optimizers.Adam(learning_rate=0.0001)\n",
        "\n",
        "baseline_model.compile(loss=\"categorical_crossentropy\", optimizer=optimizer, metrics=[\"accuracy\"])"
      ],
      "metadata": {
        "id": "x3ZJQxf11P59"
      },
      "execution_count": 60,
      "outputs": []
    },
    {
      "cell_type": "markdown",
      "source": [
        "# Define the callback"
      ],
      "metadata": {
        "id": "9ARKTEhU2xAO"
      }
    },
    {
      "cell_type": "code",
      "source": [
        "callbacks = [keras.callbacks.ModelCheckpoint(filepath=\"convnet_baseline_model.keras\", save_best_only=True, monitor=\"val_loss\", verbose=1), \n",
        "             keras.callbacks.EarlyStopping(monitor=\"val_loss\", patience=2)]"
      ],
      "metadata": {
        "id": "PE-J0i182_7H"
      },
      "execution_count": 61,
      "outputs": []
    },
    {
      "cell_type": "markdown",
      "source": [
        "# Training the model"
      ],
      "metadata": {
        "id": "W_DUVu_y3XL6"
      }
    },
    {
      "cell_type": "code",
      "source": [
        "history = baseline_model.fit(x=x_train, y=y_train, epochs=10, batch_size=128, validation_data=(x_validation, y_validation),callbacks=callbacks)"
      ],
      "metadata": {
        "colab": {
          "base_uri": "https://localhost:8080/"
        },
        "id": "hCLDYaUE3ZKx",
        "outputId": "0c61f492-97ef-4542-9bbd-3fb58e7156d2"
      },
      "execution_count": 62,
      "outputs": [
        {
          "output_type": "stream",
          "name": "stdout",
          "text": [
            "Epoch 1/10\n",
            "352/352 [==============================] - ETA: 0s - loss: 1.8710 - accuracy: 0.3143\n",
            "Epoch 1: val_loss improved from inf to 1.64367, saving model to convnet_baseline_model.keras\n",
            "352/352 [==============================] - 270s 763ms/step - loss: 1.8710 - accuracy: 0.3143 - val_loss: 1.6437 - val_accuracy: 0.3918\n",
            "Epoch 2/10\n",
            "352/352 [==============================] - ETA: 0s - loss: 1.5558 - accuracy: 0.4326\n",
            "Epoch 2: val_loss improved from 1.64367 to 1.46519, saving model to convnet_baseline_model.keras\n",
            "352/352 [==============================] - 270s 767ms/step - loss: 1.5558 - accuracy: 0.4326 - val_loss: 1.4652 - val_accuracy: 0.4594\n",
            "Epoch 3/10\n",
            "352/352 [==============================] - ETA: 0s - loss: 1.4225 - accuracy: 0.4822\n",
            "Epoch 3: val_loss improved from 1.46519 to 1.36423, saving model to convnet_baseline_model.keras\n",
            "352/352 [==============================] - 270s 766ms/step - loss: 1.4225 - accuracy: 0.4822 - val_loss: 1.3642 - val_accuracy: 0.4988\n",
            "Epoch 4/10\n",
            "352/352 [==============================] - ETA: 0s - loss: 1.3348 - accuracy: 0.5185\n",
            "Epoch 4: val_loss improved from 1.36423 to 1.24809, saving model to convnet_baseline_model.keras\n",
            "352/352 [==============================] - 270s 766ms/step - loss: 1.3348 - accuracy: 0.5185 - val_loss: 1.2481 - val_accuracy: 0.5430\n",
            "Epoch 5/10\n",
            "352/352 [==============================] - ETA: 0s - loss: 1.2666 - accuracy: 0.5453\n",
            "Epoch 5: val_loss improved from 1.24809 to 1.19160, saving model to convnet_baseline_model.keras\n",
            "352/352 [==============================] - 272s 773ms/step - loss: 1.2666 - accuracy: 0.5453 - val_loss: 1.1916 - val_accuracy: 0.5716\n",
            "Epoch 6/10\n",
            "352/352 [==============================] - ETA: 0s - loss: 1.2036 - accuracy: 0.5690\n",
            "Epoch 6: val_loss improved from 1.19160 to 1.17445, saving model to convnet_baseline_model.keras\n",
            "352/352 [==============================] - 270s 768ms/step - loss: 1.2036 - accuracy: 0.5690 - val_loss: 1.1745 - val_accuracy: 0.5802\n",
            "Epoch 7/10\n",
            "352/352 [==============================] - ETA: 0s - loss: 1.1511 - accuracy: 0.5909\n",
            "Epoch 7: val_loss improved from 1.17445 to 1.08784, saving model to convnet_baseline_model.keras\n",
            "352/352 [==============================] - 271s 770ms/step - loss: 1.1511 - accuracy: 0.5909 - val_loss: 1.0878 - val_accuracy: 0.6104\n",
            "Epoch 8/10\n",
            "352/352 [==============================] - ETA: 0s - loss: 1.1076 - accuracy: 0.6062\n",
            "Epoch 8: val_loss did not improve from 1.08784\n",
            "352/352 [==============================] - 272s 773ms/step - loss: 1.1076 - accuracy: 0.6062 - val_loss: 1.0932 - val_accuracy: 0.6014\n",
            "Epoch 9/10\n",
            "352/352 [==============================] - ETA: 0s - loss: 1.0717 - accuracy: 0.6191\n",
            "Epoch 9: val_loss improved from 1.08784 to 1.00038, saving model to convnet_baseline_model.keras\n",
            "352/352 [==============================] - 269s 765ms/step - loss: 1.0717 - accuracy: 0.6191 - val_loss: 1.0004 - val_accuracy: 0.6446\n",
            "Epoch 10/10\n",
            "352/352 [==============================] - ETA: 0s - loss: 1.0234 - accuracy: 0.6403\n",
            "Epoch 10: val_loss improved from 1.00038 to 0.96345, saving model to convnet_baseline_model.keras\n",
            "352/352 [==============================] - 270s 767ms/step - loss: 1.0234 - accuracy: 0.6403 - val_loss: 0.9635 - val_accuracy: 0.6552\n"
          ]
        }
      ]
    }
  ]
}